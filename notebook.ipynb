{
 "cells": [
  {
   "cell_type": "code",
   "execution_count": 213,
   "id": "050535e3-612c-4eee-a1c8-413928ff13ca",
   "metadata": {
    "executionCancelledAt": null,
    "executionTime": 58,
    "lastExecutedAt": 1730799285786,
    "lastExecutedByKernel": "863f0923-91d3-40d6-b2aa-48f18ac80ead",
    "lastScheduledRunId": null,
    "lastSuccessfullyExecutedCode": "# Start coding here\n# Use as many cells as you need\nimport pandas as pd\n\nlego_sets = pd.read_csv('data/lego_sets.csv')\nparent_themes = pd.read_csv('data/parent_themes.csv')\n\nmerged_data = lego_sets.merge(parent_themes, left_on=\"parent_theme\", right_on=\"name\")\n\nall_licensed=merged_data[merged_data[\"is_licensed\"]==True]\nlicensed_starwars=all_licensed[all_licensed[\"parent_theme\"]==\"Star Wars\"].shape[0]\nthe_force= int(licensed_starwars/all_licensed.shape[0]*100)\n\nstar_wars_sets = merged_data[merged_data[\"parent_theme\"] == \"Star Wars\"]\n\npivot_table_star_wars = star_wars_sets.pivot_table(\n    index=\"year\",\n    values=\"set_num\",\n    aggfunc=\"count\"\n)\n\nsorted_star_wars = pivot_table_star_wars.sort_values(by=\"set_num\", ascending=False)\n\nnew_era = sorted_star_wars.index[0]  \nprint(the_force)\nprint(new_era)\n",
    "outputsMetadata": {
     "0": {
      "height": 59,
      "type": "stream"
     }
    }
   },
   "outputs": [
    {
     "name": "stdout",
     "output_type": "stream",
     "text": [
      "45\n",
      "2016\n"
     ]
    }
   ],
   "source": [
    "import pandas as pd\n",
    "\n",
    "lego_sets = pd.read_csv('data/lego_sets.csv')\n",
    "parent_themes = pd.read_csv('data/parent_themes.csv')\n",
    "\n",
    "merged_data = lego_sets.merge(parent_themes, left_on=\"parent_theme\", right_on=\"name\")\n",
    "\n",
    "all_licensed=merged_data[merged_data[\"is_licensed\"]==True]\n",
    "licensed_starwars=all_licensed[all_licensed[\"parent_theme\"]==\"Star Wars\"].shape[0]\n",
    "the_force= int(licensed_starwars/all_licensed.shape[0]*100)\n",
    "\n",
    "star_wars_sets = merged_data[merged_data[\"parent_theme\"] == \"Star Wars\"]\n",
    "\n",
    "pivot_table_star_wars = star_wars_sets.pivot_table(\n",
    "    index=\"year\",\n",
    "    values=\"set_num\",\n",
    "    aggfunc=\"count\"\n",
    ")\n",
    "\n",
    "sorted_star_wars = pivot_table_star_wars.sort_values(by=\"set_num\", ascending=False)\n",
    "\n",
    "new_era = sorted_star_wars.index[0]  \n",
    "print(the_force)\n",
    "print(new_era)\n"
   ]
  }
 ],
 "metadata": {
  "colab": {
   "name": "Welcome to DataCamp Workspaces.ipynb",
   "provenance": []
  },
  "editor": "DataLab",
  "kernelspec": {
   "display_name": "Python 3 (ipykernel)",
   "language": "python",
   "name": "python3"
  },
  "language_info": {
   "codemirror_mode": {
    "name": "ipython",
    "version": 3
   },
   "file_extension": ".py",
   "mimetype": "text/x-python",
   "name": "python",
   "nbconvert_exporter": "python",
   "pygments_lexer": "ipython3",
   "version": "3.8.10"
  }
 },
 "nbformat": 4,
 "nbformat_minor": 5
}
